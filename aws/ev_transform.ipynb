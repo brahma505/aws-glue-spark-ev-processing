{
 "cells": [
  {
   "cell_type": "code",
   "execution_count": 1,
   "id": "46e0d4b9-7f1a-4744-bc55-015512dee28f",
   "metadata": {
    "execution": {
     "iopub.execute_input": "2024-05-12T23:17:55.416366Z",
     "iopub.status.busy": "2024-05-12T23:17:55.415884Z",
     "iopub.status.idle": "2024-05-12T23:18:10.448050Z",
     "shell.execute_reply": "2024-05-12T23:18:10.447532Z",
     "shell.execute_reply.started": "2024-05-12T23:17:55.416342Z"
    },
    "tags": []
   },
   "outputs": [
    {
     "data": {
      "application/vnd.jupyter.widget-view+json": {
       "model_id": "4c96e060e07047f4b2f85f3a1f297a7f",
       "version_major": 2,
       "version_minor": 0
      },
      "text/plain": [
       "VBox()"
      ]
     },
     "metadata": {},
     "output_type": "display_data"
    },
    {
     "name": "stdout",
     "output_type": "stream",
     "text": [
      "Starting Spark application\n"
     ]
    },
    {
     "data": {
      "text/html": [
       "<table>\n",
       "    <tr><th>ID</th><th>Kind</th><th>State</th><th>Spark UI</th><th>Driver log</th><th>User</th><th>Current session?</th></tr><tr><td>5</td><td>pyspark</td><td>idle</td><td><a target=\"_blank\" href=\"https://spark-live-ui.emr-serverless.amazonaws.com\" class=\"emr-proxy-link\" emr-runtime=\"emr-serverless\" emr-resource=\"00fj9bflkq6uqh0e\" application-id=\"00fj97surhbrcb0d\">Link</a></td><td></td><td>None</td><td>✔</td></tr></table>"
      ],
      "text/plain": [
       "<IPython.core.display.HTML object>"
      ]
     },
     "metadata": {},
     "output_type": "display_data"
    },
    {
     "data": {
      "application/vnd.jupyter.widget-view+json": {
       "model_id": "",
       "version_major": 2,
       "version_minor": 0
      },
      "text/plain": [
       "FloatProgress(value=0.0, bar_style='info', description='Progress:', layout=Layout(height='25px', width='50%'),…"
      ]
     },
     "metadata": {},
     "output_type": "display_data"
    },
    {
     "name": "stdout",
     "output_type": "stream",
     "text": [
      "SparkSession available as 'spark'.\n"
     ]
    },
    {
     "data": {
      "application/vnd.jupyter.widget-view+json": {
       "model_id": "",
       "version_major": 2,
       "version_minor": 0
      },
      "text/plain": [
       "FloatProgress(value=0.0, bar_style='info', description='Progress:', layout=Layout(height='25px', width='50%'),…"
      ]
     },
     "metadata": {},
     "output_type": "display_data"
    }
   ],
   "source": [
    "from pyspark.sql import SparkSession\n",
    "from pyspark.sql.functions import col"
   ]
  },
  {
   "cell_type": "code",
   "execution_count": 2,
   "id": "c6f4d264-d5c1-4ff6-b4a4-63dabceeafbc",
   "metadata": {
    "execution": {
     "iopub.execute_input": "2024-05-12T23:18:25.931891Z",
     "iopub.status.busy": "2024-05-12T23:18:25.931617Z",
     "iopub.status.idle": "2024-05-12T23:18:46.841203Z",
     "shell.execute_reply": "2024-05-12T23:18:46.840657Z",
     "shell.execute_reply.started": "2024-05-12T23:18:25.931870Z"
    },
    "tags": []
   },
   "outputs": [
    {
     "name": "stdout",
     "output_type": "stream",
     "text": [
      "Starting Spark application\n"
     ]
    },
    {
     "data": {
      "text/html": [
       "<table>\n",
       "    <tr><th>ID</th><th>Kind</th><th>State</th><th>Spark UI</th><th>Driver log</th><th>User</th><th>Current session?</th></tr><tr><td>6</td><td>pyspark</td><td>idle</td><td><a target=\"_blank\" href=\"https://spark-live-ui.emr-serverless.amazonaws.com\" class=\"emr-proxy-link\" emr-runtime=\"emr-serverless\" emr-resource=\"00fj9bflkq6uqh0e\" application-id=\"00fj97surhbrcb0d\">Link</a></td><td></td><td>None</td><td>✔</td></tr></table>"
      ],
      "text/plain": [
       "<IPython.core.display.HTML object>"
      ]
     },
     "metadata": {},
     "output_type": "display_data"
    },
    {
     "data": {
      "application/vnd.jupyter.widget-view+json": {
       "model_id": "",
       "version_major": 2,
       "version_minor": 0
      },
      "text/plain": [
       "FloatProgress(value=0.0, bar_style='info', description='Progress:', layout=Layout(height='25px', width='50%'),…"
      ]
     },
     "metadata": {},
     "output_type": "display_data"
    },
    {
     "name": "stdout",
     "output_type": "stream",
     "text": [
      "SparkSession available as 'spark'.\n"
     ]
    },
    {
     "data": {
      "text/html": [
       "Current session configs: <tt>{'conf': {'spark.sql.extensions': 'io.delta.sql.DeltaSparkSessionExtension', 'spark.sql.catalog.spark_catalog': 'org.apache.spark.sql.delta.catalog.DeltaCatalog', 'spark.jars': '/usr/share/aws/delta/lib/delta-core.jar,/usr/share/aws/delta/lib/delta-storage.jar,/usr/share/aws/delta/lib/delta-storage-s3-dynamodb.jar', 'spark.hadoop.hive.metastore.client.factory.class': 'com.amazonaws.glue.catalog.metastore.AWSGlueDataCatalogHiveClientFactory'}, 'driverMemory': '14G', 'driverCores': 4, 'executorMemory': '14G', 'executorCores': 4, 'numExecutors': 3, 'proxyUser': 'user_brahma505', 'kind': 'pyspark'}</tt><br>"
      ],
      "text/plain": [
       "<IPython.core.display.HTML object>"
      ]
     },
     "metadata": {},
     "output_type": "display_data"
    },
    {
     "data": {
      "text/html": [
       "<table>\n",
       "    <tr><th>ID</th><th>Kind</th><th>State</th><th>Spark UI</th><th>Driver log</th><th>User</th><th>Current session?</th></tr><tr><td>6</td><td>pyspark</td><td>idle</td><td><a target=\"_blank\" href=\"https://spark-live-ui.emr-serverless.amazonaws.com\" class=\"emr-proxy-link\" emr-runtime=\"emr-serverless\" emr-resource=\"00fj9bflkq6uqh0e\" application-id=\"00fj97surhbrcb0d\">Link</a></td><td></td><td>None</td><td>✔</td></tr></table>"
      ],
      "text/plain": [
       "<IPython.core.display.HTML object>"
      ]
     },
     "metadata": {},
     "output_type": "display_data"
    }
   ],
   "source": [
    "%%configure -f\n",
    "{\n",
    "    \"conf\": {\n",
    "        \"spark.sql.extensions\" : \"io.delta.sql.DeltaSparkSessionExtension\",\n",
    "        \"spark.sql.catalog.spark_catalog\": \"org.apache.spark.sql.delta.catalog.DeltaCatalog\",\n",
    "        \"spark.jars\": \"/usr/share/aws/delta/lib/delta-core.jar,/usr/share/aws/delta/lib/delta-storage.jar,/usr/share/aws/delta/lib/delta-storage-s3-dynamodb.jar\",\n",
    "        \"spark.hadoop.hive.metastore.client.factory.class\": \"com.amazonaws.glue.catalog.metastore.AWSGlueDataCatalogHiveClientFactory\"\n",
    "    }\n",
    "}"
   ]
  },
  {
   "cell_type": "code",
   "execution_count": 107,
   "id": "73348368-e626-494a-890f-12ee73ca6ff6",
   "metadata": {
    "execution": {
     "iopub.execute_input": "2024-05-13T01:49:41.475680Z",
     "iopub.status.busy": "2024-05-13T01:49:41.475367Z",
     "iopub.status.idle": "2024-05-13T01:49:42.455411Z",
     "shell.execute_reply": "2024-05-13T01:49:42.454872Z",
     "shell.execute_reply.started": "2024-05-13T01:49:41.475660Z"
    },
    "tags": []
   },
   "outputs": [
    {
     "data": {
      "application/vnd.jupyter.widget-view+json": {
       "model_id": "b4a87f2c114341dda1205de2446eef62",
       "version_major": 2,
       "version_minor": 0
      },
      "text/plain": [
       "VBox()"
      ]
     },
     "metadata": {},
     "output_type": "display_data"
    },
    {
     "data": {
      "application/vnd.jupyter.widget-view+json": {
       "model_id": "",
       "version_major": 2,
       "version_minor": 0
      },
      "text/plain": [
       "FloatProgress(value=0.0, bar_style='info', description='Progress:', layout=Layout(height='25px', width='50%'),…"
      ]
     },
     "metadata": {},
     "output_type": "display_data"
    }
   ],
   "source": [
    "s3_path = \"s3://snowflake-ev-data/raw_data/data.json\"\n",
    "raw_data_df = spark.read.option(\"allowUnquotedFieldNames\", \"true\").json(s3_path)"
   ]
  },
  {
   "cell_type": "code",
   "execution_count": 108,
   "id": "05baf89d-8775-4254-b971-3fc9bfc5dbb8",
   "metadata": {
    "execution": {
     "iopub.execute_input": "2024-05-13T01:49:47.839741Z",
     "iopub.status.busy": "2024-05-13T01:49:47.839319Z",
     "iopub.status.idle": "2024-05-13T01:49:48.022421Z",
     "shell.execute_reply": "2024-05-13T01:49:48.021788Z",
     "shell.execute_reply.started": "2024-05-13T01:49:47.839719Z"
    },
    "tags": []
   },
   "outputs": [
    {
     "data": {
      "application/vnd.jupyter.widget-view+json": {
       "model_id": "ee280cf738ca436cbe014b0c1b3429c8",
       "version_major": 2,
       "version_minor": 0
      },
      "text/plain": [
       "VBox()"
      ]
     },
     "metadata": {},
     "output_type": "display_data"
    },
    {
     "data": {
      "application/vnd.jupyter.widget-view+json": {
       "model_id": "",
       "version_major": 2,
       "version_minor": 0
      },
      "text/plain": [
       "FloatProgress(value=0.0, bar_style='info', description='Progress:', layout=Layout(height='25px', width='50%'),…"
      ]
     },
     "metadata": {},
     "output_type": "display_data"
    }
   ],
   "source": [
    "from pyspark.sql.types import StructType, StructField, StringType, ArrayType, IntegerType, LongType"
   ]
  },
  {
   "cell_type": "code",
   "execution_count": 109,
   "id": "1eccc4a9-f7ae-4897-a2e8-eda76a2e5509",
   "metadata": {
    "execution": {
     "iopub.execute_input": "2024-05-13T01:49:50.610187Z",
     "iopub.status.busy": "2024-05-13T01:49:50.609738Z",
     "iopub.status.idle": "2024-05-13T01:49:50.778412Z",
     "shell.execute_reply": "2024-05-13T01:49:50.777725Z",
     "shell.execute_reply.started": "2024-05-13T01:49:50.610165Z"
    },
    "tags": []
   },
   "outputs": [
    {
     "data": {
      "application/vnd.jupyter.widget-view+json": {
       "model_id": "35726927607042b881a932a64b86b02b",
       "version_major": 2,
       "version_minor": 0
      },
      "text/plain": [
       "VBox()"
      ]
     },
     "metadata": {},
     "output_type": "display_data"
    },
    {
     "data": {
      "application/vnd.jupyter.widget-view+json": {
       "model_id": "",
       "version_major": 2,
       "version_minor": 0
      },
      "text/plain": [
       "FloatProgress(value=0.0, bar_style='info', description='Progress:', layout=Layout(height='25px', width='50%'),…"
      ]
     },
     "metadata": {},
     "output_type": "display_data"
    }
   ],
   "source": [
    "df = raw_data_df.withColumn(\n",
    "    \"data\",\n",
    "    F.explode(col(\"data\").cast(ArrayType(ArrayType(StringType()))))\n",
    ")"
   ]
  },
  {
   "cell_type": "code",
   "execution_count": 110,
   "id": "c578293e-a686-4386-a293-b845e7beeae0",
   "metadata": {
    "execution": {
     "iopub.execute_input": "2024-05-13T01:49:53.335820Z",
     "iopub.status.busy": "2024-05-13T01:49:53.335526Z",
     "iopub.status.idle": "2024-05-13T01:49:54.248358Z",
     "shell.execute_reply": "2024-05-13T01:49:54.247676Z",
     "shell.execute_reply.started": "2024-05-13T01:49:53.335799Z"
    },
    "tags": []
   },
   "outputs": [
    {
     "data": {
      "application/vnd.jupyter.widget-view+json": {
       "model_id": "fcf9359fe7104ffe9a9b5394247d0ff2",
       "version_major": 2,
       "version_minor": 0
      },
      "text/plain": [
       "VBox()"
      ]
     },
     "metadata": {},
     "output_type": "display_data"
    },
    {
     "data": {
      "application/vnd.jupyter.widget-view+json": {
       "model_id": "",
       "version_major": 2,
       "version_minor": 0
      },
      "text/plain": [
       "FloatProgress(value=0.0, bar_style='info', description='Progress:', layout=Layout(height='25px', width='50%'),…"
      ]
     },
     "metadata": {},
     "output_type": "display_data"
    },
    {
     "name": "stdout",
     "output_type": "stream",
     "text": [
      "[Row(data=['row-zt4k~iszy.uhv6', '00000000-0000-0000-62B4-C1BC527B773A', '0', '1676414233', None, '1676414284', None, '{ }', '5YJ3E1EA8J', 'San Diego', 'Oceanside', 'CA', '92051', '2018', 'TESLA', 'MODEL 3', 'Battery Electric Vehicle (BEV)', 'Clean Alternative Fuel Vehicle Eligible', '215', '0', None, '153998050', None, None, '06073018509', None, None, None]), Row(data=['row-5r58~kb8y.789r', '00000000-0000-0000-B54E-F27AFFF902F6', '0', '1676414233', None, '1676414284', None, '{ }', '3FA6P0PU7H', 'Sedgwick', 'Derby', 'KS', '67037', '2017', 'FORD', 'FUSION', 'Plug-in Hybrid Electric Vehicle (PHEV)', 'Not eligible due to low battery range', '21', '0', None, '138214331', 'POINT (-97.27013 37.54531)', None, '20173009801', '1291', None, None]), Row(data=['row-84ix~3wif_u9ju', '00000000-0000-0000-F67B-BBFF22B88E48', '0', '1676414233', None, '1676414298', None, '{ }', '1N4AZ0CP8D', 'Snohomish', 'Marysville', 'WA', '98271', '2013', 'NISSAN', 'LEAF', 'Battery Electric Vehicle (BEV)', 'Clean Alternative Fuel Vehicle Eligible', '75', '0', '38', '3129059', 'POINT (-122.19388 48.15353)', 'PUGET SOUND ENERGY INC', '53061052805', '3213', '2', '40']), Row(data=['row-wiar-siae_sed9', '00000000-0000-0000-0360-775CFE2EDAFF', '0', '1676414233', None, '1676414298', None, '{ }', 'WBY8P8C58K', 'Kitsap', 'Bremerton', 'WA', '98337', '2019', 'BMW', 'I3', 'Plug-in Hybrid Electric Vehicle (PHEV)', 'Clean Alternative Fuel Vehicle Eligible', '126', '0', '26', '166525635', 'POINT (-122.62749 47.565)', 'PUGET SOUND ENERGY INC', '53035080500', '848', '6', '33']), Row(data=['row-abd5~finn.nzkg', '00000000-0000-0000-3182-A2040CC92549', '0', '1676414233', None, '1676414298', None, '{ }', '5YJ3E1EA7K', 'Snohomish', 'Edmonds', 'WA', '98026', '2019', 'TESLA', 'MODEL 3', 'Battery Electric Vehicle (BEV)', 'Clean Alternative Fuel Vehicle Eligible', '220', '0', '32', '475248315', 'POINT (-122.31768 47.87166)', 'PUGET SOUND ENERGY INC', '53061050800', '3213', '2', '7'])]"
     ]
    }
   ],
   "source": [
    "df = df.select(\"data\")\n",
    "df.head(5)"
   ]
  },
  {
   "cell_type": "code",
   "execution_count": 111,
   "id": "9ad3c5b9-6f46-4248-b1b4-44085cb3dcc5",
   "metadata": {
    "execution": {
     "iopub.execute_input": "2024-05-13T01:49:59.757484Z",
     "iopub.status.busy": "2024-05-13T01:49:59.756871Z",
     "iopub.status.idle": "2024-05-13T01:49:59.923902Z",
     "shell.execute_reply": "2024-05-13T01:49:59.923229Z",
     "shell.execute_reply.started": "2024-05-13T01:49:59.757461Z"
    },
    "tags": []
   },
   "outputs": [
    {
     "data": {
      "application/vnd.jupyter.widget-view+json": {
       "model_id": "39ce1fbd5b7d4e63899728e2ab1675ae",
       "version_major": 2,
       "version_minor": 0
      },
      "text/plain": [
       "VBox()"
      ]
     },
     "metadata": {},
     "output_type": "display_data"
    },
    {
     "data": {
      "application/vnd.jupyter.widget-view+json": {
       "model_id": "",
       "version_major": 2,
       "version_minor": 0
      },
      "text/plain": [
       "FloatProgress(value=0.0, bar_style='info', description='Progress:', layout=Layout(height='25px', width='50%'),…"
      ]
     },
     "metadata": {},
     "output_type": "display_data"
    }
   ],
   "source": [
    "from pyspark.sql.types import StructType, StructField, StringType, IntegerType, DoubleType, \\\n",
    "    TimestampType, BooleanType, ArrayType\n",
    "\n",
    "# Define schema elements based on your data (modify as needed)\n",
    "data_item_schema = StructType([\n",
    "  StructField(\"sid\", StringType(), True),  # Assuming hidden flag doesn't affect usage\n",
    "  StructField(\"id\", StringType(), True),  # Assuming hidden flag doesn't affect usage\n",
    "  StructField(\"position\", StringType(), True),  # Assuming hidden flag doesn't affect usage\n",
    "  StructField(\"created_at\", StringType(), True),  # Assuming hidden flag doesn't affect usage\n",
    "  StructField(\"created_meta\", StringType(), True),  # Assuming hidden flag doesn't affect usage\n",
    "  StructField(\"updated_at\", StringType(), True),  # Assuming hidden flag doesn't affect usage\n",
    "  StructField(\"updated_meta\", StringType(), True),  # Assuming hidden flag doesn't affect usage\n",
    "  StructField(\"meta\", StringType(), True),  # Assuming hidden flag doesn't affect usage\n",
    "  StructField(\"vin_1_10\", StringType(), True),\n",
    "  StructField(\"county\", StringType(), True),\n",
    "  StructField(\"city\", StringType(), True),\n",
    "  StructField(\"state\", StringType(), True),\n",
    "  StructField(\"zip_code\", StringType(), True),\n",
    "  StructField(\"model_year\", StringType(), True),\n",
    "  StructField(\"make\", StringType(), True),\n",
    "  StructField(\"model\", StringType(), True),\n",
    "  StructField(\"ev_type\", StringType(), True),\n",
    "  StructField(\"cafv_type\", StringType(), True),\n",
    "  StructField(\"electric_range\", StringType(), True),  # Assuming numeric representation for range\n",
    "  StructField(\"base_msrp\", StringType(), True),  # Assuming numeric representation for MSRP\n",
    "  StructField(\"legislative_district\", StringType(), True),\n",
    "  StructField(\"dol_vehicle_id\", StringType(), True),\n",
    "  StructField(\"geocoded_column\", StringType(), True),  # Assuming point data for location\n",
    "  StructField(\"electric_utility\", StringType(), True),\n",
    "  StructField(\"_2020_census_tract\", StringType(), True),\n",
    "  StructField(\":@computed_region_x4ys_rtnd\", StringType(), True),  # Computed field, data type might change\n",
    "  StructField(\":@computed_region_fny7_vc3j\", StringType(), True),  # Computed field, data type might change\n",
    "  StructField(\":@computed_region_8ddd_yn5v\", StringType(), True),  # Computed field, data type might change\n",
    "])"
   ]
  },
  {
   "cell_type": "code",
   "execution_count": 112,
   "id": "f0c37354-11b4-480a-a50c-82b1f877841e",
   "metadata": {
    "execution": {
     "iopub.execute_input": "2024-05-13T01:50:08.003783Z",
     "iopub.status.busy": "2024-05-13T01:50:08.003223Z",
     "iopub.status.idle": "2024-05-13T01:50:08.378928Z",
     "shell.execute_reply": "2024-05-13T01:50:08.378387Z",
     "shell.execute_reply.started": "2024-05-13T01:50:08.003760Z"
    },
    "tags": []
   },
   "outputs": [
    {
     "data": {
      "application/vnd.jupyter.widget-view+json": {
       "model_id": "ca25cbbc8e954217a636b420cd6c93e6",
       "version_major": 2,
       "version_minor": 0
      },
      "text/plain": [
       "VBox()"
      ]
     },
     "metadata": {},
     "output_type": "display_data"
    },
    {
     "data": {
      "application/vnd.jupyter.widget-view+json": {
       "model_id": "",
       "version_major": 2,
       "version_minor": 0
      },
      "text/plain": [
       "FloatProgress(value=0.0, bar_style='info', description='Progress:', layout=Layout(height='25px', width='50%'),…"
      ]
     },
     "metadata": {},
     "output_type": "display_data"
    }
   ],
   "source": [
    "# Access elements within the map function using the actual row argument\n",
    "new_data = df.rdd.map(lambda row: Row(**dict(zip([f.name for f in data_item_schema.fields], \n",
    "                                                  [row.data[i] for i in range(len(data_item_schema.fields))]))))\n",
    "\n",
    "# Create a new DataFrame with the applied schema\n",
    "new_df = spark.createDataFrame(new_data, data_item_schema)"
   ]
  },
  {
   "cell_type": "code",
   "execution_count": 122,
   "id": "d6904893-32d1-4a27-8162-e1a7ce15cff7",
   "metadata": {
    "execution": {
     "iopub.execute_input": "2024-05-13T02:03:20.685273Z",
     "iopub.status.busy": "2024-05-13T02:03:20.684656Z",
     "iopub.status.idle": "2024-05-13T02:03:21.123663Z",
     "shell.execute_reply": "2024-05-13T02:03:21.123142Z",
     "shell.execute_reply.started": "2024-05-13T02:03:20.685236Z"
    },
    "tags": []
   },
   "outputs": [
    {
     "data": {
      "application/vnd.jupyter.widget-view+json": {
       "model_id": "3b67d19e93f44136a28b5cb108f80817",
       "version_major": 2,
       "version_minor": 0
      },
      "text/plain": [
       "VBox()"
      ]
     },
     "metadata": {},
     "output_type": "display_data"
    },
    {
     "data": {
      "application/vnd.jupyter.widget-view+json": {
       "model_id": "",
       "version_major": 2,
       "version_minor": 0
      },
      "text/plain": [
       "FloatProgress(value=0.0, bar_style='info', description='Progress:', layout=Layout(height='25px', width='50%'),…"
      ]
     },
     "metadata": {},
     "output_type": "display_data"
    }
   ],
   "source": [
    "#cast the columns to correct datatypes\n",
    "new_df = new_df.withColumn(\"electric_range\", new_df[\"electric_range\"].cast(IntegerType())).withColumn(\"base_msrp\", new_df[\"base_msrp\"].cast(IntegerType())).withColumn(\":@computed_region_x4ys_rtnd\", new_df[\":@computed_region_x4ys_rtnd\"].cast(IntegerType())).withColumn(\":@computed_region_fny7_vc3j\", new_df[\":@computed_region_fny7_vc3j\"].cast(IntegerType())).withColumn(\":@computed_region_8ddd_yn5v\", new_df[\":@computed_region_8ddd_yn5v\"].cast(IntegerType()))"
   ]
  },
  {
   "cell_type": "code",
   "execution_count": 126,
   "id": "2f2f78d5-e870-4a61-821c-968500a15c55",
   "metadata": {
    "execution": {
     "iopub.execute_input": "2024-05-13T02:08:43.782548Z",
     "iopub.status.busy": "2024-05-13T02:08:43.782134Z",
     "iopub.status.idle": "2024-05-13T02:08:43.983041Z",
     "shell.execute_reply": "2024-05-13T02:08:43.982508Z",
     "shell.execute_reply.started": "2024-05-13T02:08:43.782526Z"
    },
    "tags": []
   },
   "outputs": [
    {
     "data": {
      "application/vnd.jupyter.widget-view+json": {
       "model_id": "85e03290568a49f8b195868d5e2cd058",
       "version_major": 2,
       "version_minor": 0
      },
      "text/plain": [
       "VBox()"
      ]
     },
     "metadata": {},
     "output_type": "display_data"
    },
    {
     "data": {
      "application/vnd.jupyter.widget-view+json": {
       "model_id": "",
       "version_major": 2,
       "version_minor": 0
      },
      "text/plain": [
       "FloatProgress(value=0.0, bar_style='info', description='Progress:', layout=Layout(height='25px', width='50%'),…"
      ]
     },
     "metadata": {},
     "output_type": "display_data"
    }
   ],
   "source": [
    "def check_for_nulls(df, column_list):\n",
    "    \"\"\"Check for null values in specified columns.\"\"\"\n",
    "    for column in column_list:\n",
    "        null_count = df.filter(col(column).isNull()).count()\n",
    "        if null_count > 0:\n",
    "            print(f\"Warning: Found {null_count} null values in column '{column}'.\")\n",
    "    return df"
   ]
  },
  {
   "cell_type": "code",
   "execution_count": 127,
   "id": "90071d23-f6eb-4856-a242-e9dc8e78a87f",
   "metadata": {
    "execution": {
     "iopub.execute_input": "2024-05-13T02:09:21.938776Z",
     "iopub.status.busy": "2024-05-13T02:09:21.938491Z",
     "iopub.status.idle": "2024-05-13T02:09:31.505816Z",
     "shell.execute_reply": "2024-05-13T02:09:31.505147Z",
     "shell.execute_reply.started": "2024-05-13T02:09:21.938755Z"
    }
   },
   "outputs": [
    {
     "data": {
      "application/vnd.jupyter.widget-view+json": {
       "model_id": "26ebc706896c4989a7a37082e6b05a4e",
       "version_major": 2,
       "version_minor": 0
      },
      "text/plain": [
       "VBox()"
      ]
     },
     "metadata": {},
     "output_type": "display_data"
    },
    {
     "data": {
      "application/vnd.jupyter.widget-view+json": {
       "model_id": "",
       "version_major": 2,
       "version_minor": 0
      },
      "text/plain": [
       "FloatProgress(value=0.0, bar_style='info', description='Progress:', layout=Layout(height='25px', width='50%'),…"
      ]
     },
     "metadata": {},
     "output_type": "display_data"
    },
    {
     "name": "stdout",
     "output_type": "stream",
     "text": [
      "Warning: Found 59 null values in column ':@computed_region_x4ys_rtnd'.\n",
      "Warning: Found 68 null values in column ':@computed_region_fny7_vc3j'.\n",
      "Warning: Found 68 null values in column ':@computed_region_8ddd_yn5v'."
     ]
    }
   ],
   "source": [
    "#check for null values in the columns\n",
    "new_df = check_for_nulls(new_df, [\"electric_range\", \"base_msrp\", \":@computed_region_x4ys_rtnd\", \":@computed_region_fny7_vc3j\", \":@computed_region_8ddd_yn5v\"])"
   ]
  },
  {
   "cell_type": "code",
   "execution_count": 128,
   "id": "c99246eb-17e1-4b26-91d7-046302b19694",
   "metadata": {
    "execution": {
     "iopub.execute_input": "2024-05-13T02:10:06.281647Z",
     "iopub.status.busy": "2024-05-13T02:10:06.281027Z",
     "iopub.status.idle": "2024-05-13T02:10:06.482691Z",
     "shell.execute_reply": "2024-05-13T02:10:06.482027Z",
     "shell.execute_reply.started": "2024-05-13T02:10:06.281622Z"
    }
   },
   "outputs": [
    {
     "data": {
      "application/vnd.jupyter.widget-view+json": {
       "model_id": "012b461ac22a4c5fbe168007b6869c6e",
       "version_major": 2,
       "version_minor": 0
      },
      "text/plain": [
       "VBox()"
      ]
     },
     "metadata": {},
     "output_type": "display_data"
    },
    {
     "data": {
      "application/vnd.jupyter.widget-view+json": {
       "model_id": "",
       "version_major": 2,
       "version_minor": 0
      },
      "text/plain": [
       "FloatProgress(value=0.0, bar_style='info', description='Progress:', layout=Layout(height='25px', width='50%'),…"
      ]
     },
     "metadata": {},
     "output_type": "display_data"
    }
   ],
   "source": [
    "def check_for_duplicates(df, subset):\n",
    "    \"\"\"Check for duplicate rows based on a subset of columns.\"\"\"\n",
    "    initial_count = df.count()\n",
    "    dedup_count = df.dropDuplicates(subset).count()\n",
    "    if initial_count != dedup_count:\n",
    "        print(f\"Warning: Found {initial_count - dedup_count} duplicate rows based on columns {subset}.\")\n",
    "    return df"
   ]
  },
  {
   "cell_type": "code",
   "execution_count": 129,
   "id": "c1f8e370-9b89-4f6f-abda-5f22d53f0449",
   "metadata": {
    "execution": {
     "iopub.execute_input": "2024-05-13T02:10:30.890164Z",
     "iopub.status.busy": "2024-05-13T02:10:30.889794Z",
     "iopub.status.idle": "2024-05-13T02:10:36.420525Z",
     "shell.execute_reply": "2024-05-13T02:10:36.419984Z",
     "shell.execute_reply.started": "2024-05-13T02:10:30.890141Z"
    }
   },
   "outputs": [
    {
     "data": {
      "application/vnd.jupyter.widget-view+json": {
       "model_id": "2df9a7b8c6d149e584013dc15ad48e56",
       "version_major": 2,
       "version_minor": 0
      },
      "text/plain": [
       "VBox()"
      ]
     },
     "metadata": {},
     "output_type": "display_data"
    },
    {
     "data": {
      "application/vnd.jupyter.widget-view+json": {
       "model_id": "",
       "version_major": 2,
       "version_minor": 0
      },
      "text/plain": [
       "FloatProgress(value=0.0, bar_style='info', description='Progress:', layout=Layout(height='25px', width='50%'),…"
      ]
     },
     "metadata": {},
     "output_type": "display_data"
    }
   ],
   "source": [
    "#check for duplicates\n",
    "new_df = check_for_duplicates(new_df, [\"sid\"])"
   ]
  },
  {
   "cell_type": "code",
   "execution_count": 130,
   "id": "7ac9fa85-3935-4313-a855-e63ea62a75c2",
   "metadata": {
    "execution": {
     "iopub.execute_input": "2024-05-13T02:10:52.249780Z",
     "iopub.status.busy": "2024-05-13T02:10:52.249192Z",
     "iopub.status.idle": "2024-05-13T02:10:52.430598Z",
     "shell.execute_reply": "2024-05-13T02:10:52.429927Z",
     "shell.execute_reply.started": "2024-05-13T02:10:52.249758Z"
    }
   },
   "outputs": [
    {
     "data": {
      "application/vnd.jupyter.widget-view+json": {
       "model_id": "a51e83a910844a04aa09b30534e9e6bb",
       "version_major": 2,
       "version_minor": 0
      },
      "text/plain": [
       "VBox()"
      ]
     },
     "metadata": {},
     "output_type": "display_data"
    },
    {
     "data": {
      "application/vnd.jupyter.widget-view+json": {
       "model_id": "",
       "version_major": 2,
       "version_minor": 0
      },
      "text/plain": [
       "FloatProgress(value=0.0, bar_style='info', description='Progress:', layout=Layout(height='25px', width='50%'),…"
      ]
     },
     "metadata": {},
     "output_type": "display_data"
    }
   ],
   "source": [
    "def check_value_ranges(df, column, min_val, max_val):\n",
    "    \"\"\"Check that values in a specific column fall within a specified range.\"\"\"\n",
    "    out_of_range_count = df.filter((col(column) < min_val) | (col(column) > max_val)).count()\n",
    "    if out_of_range_count > 0:\n",
    "        print(f\"Warning: {out_of_range_count} out-of-range values found in column '{column}'.\")\n",
    "    return df"
   ]
  },
  {
   "cell_type": "code",
   "execution_count": 131,
   "id": "44689849-7b44-4972-bdd3-a7a4248b162b",
   "metadata": {
    "execution": {
     "iopub.execute_input": "2024-05-13T02:11:08.495617Z",
     "iopub.status.busy": "2024-05-13T02:11:08.495312Z",
     "iopub.status.idle": "2024-05-13T02:11:10.969587Z",
     "shell.execute_reply": "2024-05-13T02:11:10.969065Z",
     "shell.execute_reply.started": "2024-05-13T02:11:08.495596Z"
    }
   },
   "outputs": [
    {
     "data": {
      "application/vnd.jupyter.widget-view+json": {
       "model_id": "8056e9852ce0474a9f7ece8ec0bb2dc4",
       "version_major": 2,
       "version_minor": 0
      },
      "text/plain": [
       "VBox()"
      ]
     },
     "metadata": {},
     "output_type": "display_data"
    },
    {
     "data": {
      "application/vnd.jupyter.widget-view+json": {
       "model_id": "",
       "version_major": 2,
       "version_minor": 0
      },
      "text/plain": [
       "FloatProgress(value=0.0, bar_style='info', description='Progress:', layout=Layout(height='25px', width='50%'),…"
      ]
     },
     "metadata": {},
     "output_type": "display_data"
    }
   ],
   "source": [
    "#check value ranges\n",
    "new_df = check_value_ranges(new_df, \"electric_range\", 0, 1000)"
   ]
  },
  {
   "cell_type": "code",
   "execution_count": 132,
   "id": "e03642c6-21f0-4b2a-a636-2d1042fb174b",
   "metadata": {
    "execution": {
     "iopub.execute_input": "2024-05-13T02:14:02.596724Z",
     "iopub.status.busy": "2024-05-13T02:14:02.596389Z",
     "iopub.status.idle": "2024-05-13T02:14:06.072649Z",
     "shell.execute_reply": "2024-05-13T02:14:06.072106Z",
     "shell.execute_reply.started": "2024-05-13T02:14:02.596699Z"
    }
   },
   "outputs": [
    {
     "data": {
      "application/vnd.jupyter.widget-view+json": {
       "model_id": "3057d48ff59749ae9c9aa9f0eeb57cef",
       "version_major": 2,
       "version_minor": 0
      },
      "text/plain": [
       "VBox()"
      ]
     },
     "metadata": {},
     "output_type": "display_data"
    },
    {
     "data": {
      "application/vnd.jupyter.widget-view+json": {
       "model_id": "",
       "version_major": 2,
       "version_minor": 0
      },
      "text/plain": [
       "FloatProgress(value=0.0, bar_style='info', description='Progress:', layout=Layout(height='25px', width='50%'),…"
      ]
     },
     "metadata": {},
     "output_type": "display_data"
    }
   ],
   "source": [
    "#save the dataframe to s3bucket in parquet format\n",
    "new_df.write.mode(\"overwrite\").parquet(\"s3://snowflake-ev-data/processed_data/data.parquet\")"
   ]
  },
  {
   "cell_type": "code",
   "execution_count": null,
   "id": "9c2d235d-dac9-4bcc-ada9-fb0a0021ac56",
   "metadata": {},
   "outputs": [],
   "source": []
  }
 ],
 "metadata": {
  "kernelspec": {
   "display_name": "PySpark",
   "language": "python",
   "name": "spark_magic_pyspark"
  },
  "language_info": {
   "codemirror_mode": {
    "name": "python",
    "version": 3
   },
   "file_extension": ".py",
   "mimetype": "text/x-python",
   "name": "pyspark",
   "pygments_lexer": "python3"
  }
 },
 "nbformat": 4,
 "nbformat_minor": 5
}
